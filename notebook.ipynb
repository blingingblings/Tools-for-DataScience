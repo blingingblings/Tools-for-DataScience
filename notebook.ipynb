## My jupyter notebook
"""Hello, the following prints a simple statement."""
print('hello')
